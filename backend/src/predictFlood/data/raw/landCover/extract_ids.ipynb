{
 "cells": [
  {
   "cell_type": "code",
   "execution_count": 10,
   "id": "ed2058fe",
   "metadata": {},
   "outputs": [],
   "source": [
    "import json\n"
   ]
  },
  {
   "cell_type": "code",
   "execution_count": 11,
   "id": "6d7d511b",
   "metadata": {},
   "outputs": [],
   "source": [
    "\n",
    "input_file = 'roadsegments_with_ids.json'\n",
    "output_file = 'ids.json'"
   ]
  },
  {
   "cell_type": "code",
   "execution_count": 12,
   "id": "97dc8f6e",
   "metadata": {},
   "outputs": [],
   "source": [
    "def extract_ids_and_groundwater(input_path, output_path):\n",
    "    with open(input_path, 'r', encoding='utf-8') as f:\n",
    "        data = json.load(f)\n",
    "\n",
    "    extracted = [\n",
    "        {\n",
    "            \"_id\": item[\"_id\"],\n",
    "            \"groundwater_level\": item.get(\"groundwater_level\")\n",
    "        }\n",
    "        for item in data if \"_id\" in item\n",
    "    ]\n",
    "\n",
    "    with open(output_path, 'w', encoding='utf-8') as f:\n",
    "        json.dump(extracted, f, indent=2)\n",
    "\n",
    "    print(f\"✅ Đã trích xuất {len(extracted)} mục (_id + groundwater_level) vào '{output_path}' (JSON format).\")"
   ]
  },
  {
   "cell_type": "code",
   "execution_count": 14,
   "id": "1960bd95",
   "metadata": {},
   "outputs": [
    {
     "name": "stdout",
     "output_type": "stream",
     "text": [
      "✅ Đã trích xuất 18755 mục (_id + groundwater_level) vào 'ids.json' (JSON format).\n"
     ]
    }
   ],
   "source": [
    "if __name__ == '__main__':\n",
    "    extract_ids_and_groundwater(input_file, output_file)"
   ]
  }
 ],
 "metadata": {
  "kernelspec": {
   "display_name": "Python 3",
   "language": "python",
   "name": "python3"
  },
  "language_info": {
   "codemirror_mode": {
    "name": "ipython",
    "version": 3
   },
   "file_extension": ".py",
   "mimetype": "text/x-python",
   "name": "python",
   "nbconvert_exporter": "python",
   "pygments_lexer": "ipython3",
   "version": "3.12.3"
  }
 },
 "nbformat": 4,
 "nbformat_minor": 5
}
