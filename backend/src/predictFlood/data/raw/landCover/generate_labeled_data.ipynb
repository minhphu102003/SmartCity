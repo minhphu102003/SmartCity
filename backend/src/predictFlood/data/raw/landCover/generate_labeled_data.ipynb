{
 "cells": [
  {
   "cell_type": "code",
   "execution_count": 7,
   "id": "adce7e98",
   "metadata": {},
   "outputs": [],
   "source": [
    "import json\n",
    "from datetime import datetime, timedelta\n"
   ]
  },
  {
   "cell_type": "code",
   "execution_count": 8,
   "id": "2d61ce69",
   "metadata": {},
   "outputs": [],
   "source": [
    "def load_ids(path):\n",
    "    with open(path, 'r', encoding='utf-8') as f:\n",
    "        return set(json.load(f))"
   ]
  },
  {
   "cell_type": "code",
   "execution_count": 9,
   "id": "c0723642",
   "metadata": {},
   "outputs": [],
   "source": [
    "def load_flood_reports(path):\n",
    "    with open(path, 'r', encoding='utf-8') as f:\n",
    "        data = json.load(f)\n",
    "    return set((item['road_segment_id'], item['timestamp']) for item in data)"
   ]
  },
  {
   "cell_type": "code",
   "execution_count": 10,
   "id": "58e895ef",
   "metadata": {},
   "outputs": [],
   "source": [
    "def generate_time_range(start, end):\n",
    "    current = start\n",
    "    while current <= end:\n",
    "        yield current.strftime('%Y-%m-%d %H:%M:%S')\n",
    "        current += timedelta(hours=1)"
   ]
  },
  {
   "cell_type": "code",
   "execution_count": 11,
   "id": "d098640c",
   "metadata": {},
   "outputs": [],
   "source": [
    "def generate_labeled_dataset(all_ids_path, flood_reports_path, output_path):\n",
    "    all_ids = load_ids(all_ids_path)\n",
    "    flood_reports = load_flood_reports(flood_reports_path)\n",
    "\n",
    "    start_time = datetime(2023, 1, 1, 0, 0)\n",
    "    end_time = datetime(2025, 5, 18, 0, 0)\n",
    "\n",
    "    output = []\n",
    "\n",
    "    for road_id in all_ids:\n",
    "        for timestamp in generate_time_range(start_time, end_time):\n",
    "            flooded = 1 if (road_id, timestamp) in flood_reports else 0\n",
    "            output.append({\n",
    "                \"road_segment_id\": road_id,\n",
    "                \"timestamp\": timestamp,\n",
    "                \"flooded\": flooded\n",
    "            })\n",
    "\n",
    "    with open(output_path, 'w', encoding='utf-8') as f:\n",
    "        json.dump(output, f, indent=2)\n",
    "\n",
    "    print(f\"✅ Đã tạo {len(output)} mẫu và lưu vào '{output_path}'.\")"
   ]
  },
  {
   "cell_type": "markdown",
   "id": "c7d0aa7a",
   "metadata": {},
   "source": [
    "Because of memory issues, I moved the necessary code and .json file(s) to Google Colab."
   ]
  },
  {
   "cell_type": "code",
   "execution_count": 15,
   "id": "ef0c7636",
   "metadata": {},
   "outputs": [
    {
     "ename": "MemoryError",
     "evalue": "",
     "output_type": "error",
     "traceback": [
      "\u001b[1;31m---------------------------------------------------------------------------\u001b[0m",
      "\u001b[1;31mMemoryError\u001b[0m                               Traceback (most recent call last)",
      "Cell \u001b[1;32mIn[15], line 2\u001b[0m\n\u001b[0;32m      1\u001b[0m \u001b[38;5;28;01mif\u001b[39;00m \u001b[38;5;18m__name__\u001b[39m \u001b[38;5;241m==\u001b[39m \u001b[38;5;124m'\u001b[39m\u001b[38;5;124m__main__\u001b[39m\u001b[38;5;124m'\u001b[39m:\n\u001b[1;32m----> 2\u001b[0m     \u001b[43mgenerate_labeled_dataset\u001b[49m\u001b[43m(\u001b[49m\n\u001b[0;32m      3\u001b[0m \u001b[43m        \u001b[49m\u001b[43mall_ids_path\u001b[49m\u001b[38;5;241;43m=\u001b[39;49m\u001b[38;5;124;43m'\u001b[39;49m\u001b[38;5;124;43mids.json\u001b[39;49m\u001b[38;5;124;43m'\u001b[39;49m\u001b[43m,\u001b[49m\n\u001b[0;32m      4\u001b[0m \u001b[43m        \u001b[49m\u001b[43mflood_reports_path\u001b[49m\u001b[38;5;241;43m=\u001b[39;49m\u001b[38;5;124;43m'\u001b[39;49m\u001b[38;5;124;43m../label/merged_data.json\u001b[39;49m\u001b[38;5;124;43m'\u001b[39;49m\u001b[43m,\u001b[49m\n\u001b[0;32m      5\u001b[0m \u001b[43m        \u001b[49m\u001b[43moutput_path\u001b[49m\u001b[38;5;241;43m=\u001b[39;49m\u001b[38;5;124;43m'\u001b[39;49m\u001b[38;5;124;43mlabeled_dataset.json\u001b[39;49m\u001b[38;5;124;43m'\u001b[39;49m\n\u001b[0;32m      6\u001b[0m \u001b[43m    \u001b[49m\u001b[43m)\u001b[49m\n",
      "Cell \u001b[1;32mIn[11], line 13\u001b[0m, in \u001b[0;36mgenerate_labeled_dataset\u001b[1;34m(all_ids_path, flood_reports_path, output_path)\u001b[0m\n\u001b[0;32m     11\u001b[0m     \u001b[38;5;28;01mfor\u001b[39;00m timestamp \u001b[38;5;129;01min\u001b[39;00m generate_time_range(start_time, end_time):\n\u001b[0;32m     12\u001b[0m         flooded \u001b[38;5;241m=\u001b[39m \u001b[38;5;241m1\u001b[39m \u001b[38;5;28;01mif\u001b[39;00m (road_id, timestamp) \u001b[38;5;129;01min\u001b[39;00m flood_reports \u001b[38;5;28;01melse\u001b[39;00m \u001b[38;5;241m0\u001b[39m\n\u001b[1;32m---> 13\u001b[0m         \u001b[43moutput\u001b[49m\u001b[38;5;241;43m.\u001b[39;49m\u001b[43mappend\u001b[49m\u001b[43m(\u001b[49m\u001b[43m{\u001b[49m\n\u001b[0;32m     14\u001b[0m \u001b[43m            \u001b[49m\u001b[38;5;124;43m\"\u001b[39;49m\u001b[38;5;124;43mroad_segment_id\u001b[39;49m\u001b[38;5;124;43m\"\u001b[39;49m\u001b[43m:\u001b[49m\u001b[43m \u001b[49m\u001b[43mroad_id\u001b[49m\u001b[43m,\u001b[49m\n\u001b[0;32m     15\u001b[0m \u001b[43m            \u001b[49m\u001b[38;5;124;43m\"\u001b[39;49m\u001b[38;5;124;43mtimestamp\u001b[39;49m\u001b[38;5;124;43m\"\u001b[39;49m\u001b[43m:\u001b[49m\u001b[43m \u001b[49m\u001b[43mtimestamp\u001b[49m\u001b[43m,\u001b[49m\n\u001b[0;32m     16\u001b[0m \u001b[43m            \u001b[49m\u001b[38;5;124;43m\"\u001b[39;49m\u001b[38;5;124;43mflooded\u001b[39;49m\u001b[38;5;124;43m\"\u001b[39;49m\u001b[43m:\u001b[49m\u001b[43m \u001b[49m\u001b[43mflooded\u001b[49m\n\u001b[0;32m     17\u001b[0m \u001b[43m        \u001b[49m\u001b[43m}\u001b[49m\u001b[43m)\u001b[49m\n\u001b[0;32m     19\u001b[0m \u001b[38;5;28;01mwith\u001b[39;00m \u001b[38;5;28mopen\u001b[39m(output_path, \u001b[38;5;124m'\u001b[39m\u001b[38;5;124mw\u001b[39m\u001b[38;5;124m'\u001b[39m, encoding\u001b[38;5;241m=\u001b[39m\u001b[38;5;124m'\u001b[39m\u001b[38;5;124mutf-8\u001b[39m\u001b[38;5;124m'\u001b[39m) \u001b[38;5;28;01mas\u001b[39;00m f:\n\u001b[0;32m     20\u001b[0m     json\u001b[38;5;241m.\u001b[39mdump(output, f, indent\u001b[38;5;241m=\u001b[39m\u001b[38;5;241m2\u001b[39m)\n",
      "\u001b[1;31mMemoryError\u001b[0m: "
     ]
    }
   ],
   "source": [
    "if __name__ == '__main__':\n",
    "    generate_labeled_dataset(\n",
    "        all_ids_path='ids.json',\n",
    "        flood_reports_path='../label/merged_data.json',\n",
    "        output_path='labeled_dataset.json'\n",
    "    )"
   ]
  }
 ],
 "metadata": {
  "kernelspec": {
   "display_name": "Python 3",
   "language": "python",
   "name": "python3"
  },
  "language_info": {
   "codemirror_mode": {
    "name": "ipython",
    "version": 3
   },
   "file_extension": ".py",
   "mimetype": "text/x-python",
   "name": "python",
   "nbconvert_exporter": "python",
   "pygments_lexer": "ipython3",
   "version": "3.12.3"
  }
 },
 "nbformat": 4,
 "nbformat_minor": 5
}
