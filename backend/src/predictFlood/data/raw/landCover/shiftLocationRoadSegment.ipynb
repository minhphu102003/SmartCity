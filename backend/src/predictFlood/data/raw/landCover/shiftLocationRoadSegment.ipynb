{
 "cells": [
  {
   "cell_type": "markdown",
   "id": "f0cf2717",
   "metadata": {},
   "source": [
    "Because the location road data in overturemaps was shift a minor so i change for correct location"
   ]
  },
  {
   "cell_type": "code",
   "execution_count": 19,
   "id": "6240666e",
   "metadata": {},
   "outputs": [],
   "source": [
    "import json"
   ]
  },
  {
   "cell_type": "code",
   "execution_count": 20,
   "id": "35d65d8c",
   "metadata": {},
   "outputs": [],
   "source": [
    "input_file = 'processed_roadsegment_after_shift.json'\n",
    "output_file = 'processed_roadsegment_after_shift.json'\n"
   ]
  },
  {
   "cell_type": "code",
   "execution_count": 21,
   "id": "e5c90cb4",
   "metadata": {},
   "outputs": [],
   "source": [
    "lon_offset = -0.0018263758077543704\n",
    "lat_offset =  0.0010235071235914142"
   ]
  },
  {
   "cell_type": "code",
   "execution_count": 22,
   "id": "1f00cd01",
   "metadata": {},
   "outputs": [],
   "source": [
    "def apply_offset(coord):\n",
    "    \"\"\"Apply offset to a single (lon, lat) coordinate.\"\"\"\n",
    "    return [coord[0] + lon_offset, coord[1] + lat_offset]"
   ]
  },
  {
   "cell_type": "code",
   "execution_count": 23,
   "id": "82fa7dc6",
   "metadata": {},
   "outputs": [],
   "source": [
    "def correct_segment(segment):\n",
    "    \"\"\"Apply coordinate correction to a road segment dictionary.\"\"\"\n",
    "    # Correct LineString coordinates\n",
    "    segment[\"roadSegmentLine\"][\"coordinates\"] = [\n",
    "        apply_offset(coord) for coord in segment[\"roadSegmentLine\"][\"coordinates\"]\n",
    "    ]\n",
    "\n",
    "    # Correct start_location and end_location\n",
    "    segment[\"start_location\"][\"coordinates\"] = apply_offset(segment[\"start_location\"][\"coordinates\"])\n",
    "    segment[\"end_location\"][\"coordinates\"] = apply_offset(segment[\"end_location\"][\"coordinates\"])\n",
    "\n",
    "    return segment"
   ]
  },
  {
   "cell_type": "code",
   "execution_count": 24,
   "id": "e1ecd007",
   "metadata": {},
   "outputs": [
    {
     "name": "stdout",
     "output_type": "stream",
     "text": [
      "\n",
      "Segment 1:\n",
      "  Original start: [724333.559775103, 1856000.4946653794]\n",
      "  Corrected start: [724333.559775103, 1856000.4946653794]\n",
      "  Original end: [692000.4086744358, 1195073.3815660358]\n",
      "  Corrected end: [692000.4086744358, 1195073.3815660358]\n",
      "\n",
      "Segment 2:\n",
      "  Original start: [724337.8238158318, 1856003.6615707874]\n",
      "  Corrected start: [724337.8238158318, 1856003.6615707874]\n",
      "  Original end: [692005.4236567513, 1195072.3373667803]\n",
      "  Corrected end: [692005.4236567513, 1195072.3373667803]\n",
      "\n",
      "Segment 3:\n",
      "  Original start: [836053.1012924485, 1773241.1707144927]\n",
      "  Corrected start: [836053.1012924485, 1773241.1707144927]\n",
      "  Original end: [835721.545410608, 1772939.7591373986]\n",
      "  Corrected end: [835721.545410608, 1772939.7591373986]\n"
     ]
    }
   ],
   "source": [
    "with open(input_file, 'r') as infile:\n",
    "    original_data = json.load(infile)\n",
    "\n",
    "\n",
    "corrected_data = [correct_segment(segment.copy()) for segment in original_data]\n",
    "\n",
    "\n",
    "for i in range(min(3, len(original_data))):\n",
    "    print(f\"\\nSegment {i+1}:\")\n",
    "    print(\"  Original start:\", original_data[i][\"start_location\"][\"coordinates\"])\n",
    "    print(\"  Corrected start:\", corrected_data[i][\"start_location\"][\"coordinates\"])\n",
    "    print(\"  Original end:\", original_data[i][\"end_location\"][\"coordinates\"])\n",
    "    print(\"  Corrected end:\", corrected_data[i][\"end_location\"][\"coordinates\"])"
   ]
  },
  {
   "cell_type": "code",
   "execution_count": 25,
   "id": "e629c7ea",
   "metadata": {},
   "outputs": [
    {
     "name": "stdout",
     "output_type": "stream",
     "text": [
      "✅ Coordinates corrected. Output written to processed_roadsegment_after_shift.json\n"
     ]
    }
   ],
   "source": [
    "with open(input_file, 'r') as infile:\n",
    "    data = json.load(infile)\n",
    "\n",
    "corrected_data = [correct_segment(segment) for segment in data]\n",
    "\n",
    "with open(output_file, 'w') as outfile:\n",
    "    json.dump(corrected_data, outfile, indent=2)\n",
    "\n",
    "print(f\"✅ Coordinates corrected. Output written to {output_file}\")"
   ]
  }
 ],
 "metadata": {
  "kernelspec": {
   "display_name": "Python 3",
   "language": "python",
   "name": "python3"
  },
  "language_info": {
   "codemirror_mode": {
    "name": "ipython",
    "version": 3
   },
   "file_extension": ".py",
   "mimetype": "text/x-python",
   "name": "python",
   "nbconvert_exporter": "python",
   "pygments_lexer": "ipython3",
   "version": "3.12.3"
  }
 },
 "nbformat": 4,
 "nbformat_minor": 5
}
