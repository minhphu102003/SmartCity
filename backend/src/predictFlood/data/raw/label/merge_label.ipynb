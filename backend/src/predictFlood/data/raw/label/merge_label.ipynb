{
 "cells": [
  {
   "cell_type": "code",
   "execution_count": 4,
   "id": "fef3de02",
   "metadata": {},
   "outputs": [],
   "source": [
    "import json\n",
    "import glob\n"
   ]
  },
  {
   "cell_type": "code",
   "execution_count": 5,
   "id": "a7d8de60",
   "metadata": {},
   "outputs": [],
   "source": [
    "def merge_json_files(input_folder, output_file):\n",
    "    merged_data = []\n",
    "\n",
    "    for file_name in glob.glob(\"*.json\"):\n",
    "        with open(file_name, 'r', encoding='utf-8') as f:\n",
    "            try:\n",
    "                data = json.load(f)\n",
    "                if isinstance(data, list):\n",
    "                    merged_data.extend(data)\n",
    "                else:\n",
    "                    print(f\"Skipped {file_name}: not a list of records\")\n",
    "            except json.JSONDecodeError as e:\n",
    "                print(f\"Error reading {file_name}: {e}\")\n",
    "\n",
    "    with open(output_file, 'w', encoding='utf-8') as f:\n",
    "        json.dump(merged_data, f, indent=2)\n",
    "    print(f\"Merged {len(merged_data)} records into {output_file}\")"
   ]
  },
  {
   "cell_type": "code",
   "execution_count": 6,
   "id": "bbaeb9be",
   "metadata": {},
   "outputs": [
    {
     "name": "stdout",
     "output_type": "stream",
     "text": [
      "Merged 3548 records into merged_data.json\n"
     ]
    }
   ],
   "source": [
    "merge_json_files(input_folder='label', output_file='merged_data.json')"
   ]
  }
 ],
 "metadata": {
  "kernelspec": {
   "display_name": "Python 3",
   "language": "python",
   "name": "python3"
  },
  "language_info": {
   "codemirror_mode": {
    "name": "ipython",
    "version": 3
   },
   "file_extension": ".py",
   "mimetype": "text/x-python",
   "name": "python",
   "nbconvert_exporter": "python",
   "pygments_lexer": "ipython3",
   "version": "3.12.3"
  }
 },
 "nbformat": 4,
 "nbformat_minor": 5
}
