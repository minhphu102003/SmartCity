{
 "cells": [
  {
   "cell_type": "code",
   "execution_count": 1,
   "id": "d7e9e84d",
   "metadata": {},
   "outputs": [],
   "source": [
    "import pandas as pd \n",
    "import os"
   ]
  },
  {
   "cell_type": "code",
   "execution_count": 3,
   "id": "cfcacac3",
   "metadata": {},
   "outputs": [],
   "source": [
    "INPUT_FILES = [\n",
    "    '../processed/historical/weather_processed-2020.csv',\n",
    "    '../processed/historical/weather_processed-2021.csv',\n",
    "    '../processed/historical/weather_processed-2022.csv',\n",
    "    '../processed/historical/weather_processed-2023.csv',\n",
    "    '../processed/historical/weather_processed-2024.csv',\n",
    "    '../processed/historical/weather_processed-2025.csv',\n",
    "]\n"
   ]
  },
  {
   "cell_type": "code",
   "execution_count": 4,
   "id": "d2689338",
   "metadata": {},
   "outputs": [
    {
     "data": {
      "text/plain": [
       "(47160, 14)"
      ]
     },
     "execution_count": 4,
     "metadata": {},
     "output_type": "execute_result"
    }
   ],
   "source": [
    "df = pd.concat([pd.read_csv(file) for file in INPUT_FILES], ignore_index=True)\n",
    "df.shape"
   ]
  },
  {
   "cell_type": "code",
   "execution_count": 5,
   "id": "a337026e",
   "metadata": {},
   "outputs": [],
   "source": [
    "df.to_csv('merged_open_meteo_2020_2025.csv', index=False)"
   ]
  }
 ],
 "metadata": {
  "kernelspec": {
   "display_name": "Python 3",
   "language": "python",
   "name": "python3"
  },
  "language_info": {
   "codemirror_mode": {
    "name": "ipython",
    "version": 3
   },
   "file_extension": ".py",
   "mimetype": "text/x-python",
   "name": "python",
   "nbconvert_exporter": "python",
   "pygments_lexer": "ipython3",
   "version": "3.12.3"
  }
 },
 "nbformat": 4,
 "nbformat_minor": 5
}
